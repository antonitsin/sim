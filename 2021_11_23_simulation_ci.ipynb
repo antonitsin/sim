{
  "metadata": {
    "bento_stylesheets": {
      "bento/extensions/flow/main.css": true,
      "bento/extensions/kernel_selector/main.css": true,
      "bento/extensions/kernel_ui/main.css": true,
      "bento/extensions/new_kernel/main.css": true,
      "bento/extensions/system_usage/main.css": true,
      "bento/extensions/theme/main.css": true
    },
    "kernelspec": {
      "display_name": "Python 3",
      "language": "python",
      "name": "bento_kernel_default",
      "metadata": {
        "kernel_name": "bento_kernel_default",
        "nightly_builds": true,
        "fbpkg_supported": true,
        "is_prebuilt": true
      }
    },
    "language_info": {
      "codemirror_mode": {
        "name": "ipython",
        "version": 3
      },
      "file_extension": ".py",
      "mimetype": "text/x-python",
      "name": "python",
      "nbconvert_exporter": "python",
      "pygments_lexer": "ipython3"
    },
    "last_server_session_id": "de93cd61-4cd5-4055-b203-924ce0b9aab1",
    "last_kernel_id": "ce4f24ea-f094-4f40-a8f3-d0d47de2a25b",
    "last_base_url": "https://65131.od.fbinfra.net:443/",
    "last_msg_id": "4ddecfcd-3c22eb63caadd7725259ae7f_1223",
    "outputWidgetContext": {},
    "colab": {
      "name": "2021_11_23_simulation_ci.ipynb",
      "provenance": [],
      "include_colab_link": true
    }
  },
  "nbformat": 4,
  "nbformat_minor": 0,
  "cells": [
    {
      "cell_type": "markdown",
      "metadata": {
        "id": "view-in-github",
        "colab_type": "text"
      },
      "source": [
        "<a href=\"https://colab.research.google.com/github/antonitsin/sim/blob/master/2021_11_23_simulation_ci.ipynb\" target=\"_parent\"><img src=\"https://colab.research.google.com/assets/colab-badge.svg\" alt=\"Open In Colab\"/></a>"
      ]
    },
    {
      "cell_type": "code",
      "metadata": {
        "originalKey": "40b37120-8da3-4452-aa92-11356e269c1a",
        "code_folding": [],
        "hidden_ranges": [],
        "requestMsgId": "695001e6-a4d0-489f-bddc-93bf0f96ca97",
        "executionStartTime": 1638763179360,
        "executionStopTime": 1638763179500,
        "colab": {
          "base_uri": "https://localhost:8080/"
        },
        "id": "oj11fGtrP35V",
        "outputId": "41fdb97b-5f96-4cb0-a007-2bc26b006ad8"
      },
      "source": [
        "from scipy.stats import binom_test\n",
        "from scipy import stats as st\n",
        "import pandas as pd\n",
        "import numpy as np\n",
        "import random as rd\n",
        "from random import choices\n",
        "from matplotlib import pyplot as plt\n",
        "from statsmodels.stats.power import tt_ind_solve_power\n",
        "plt.style.use('seaborn-whitegrid')"
      ],
      "execution_count": 1,
      "outputs": [
        {
          "output_type": "stream",
          "name": "stderr",
          "text": [
            "/usr/local/lib/python3.7/dist-packages/statsmodels/tools/_testing.py:19: FutureWarning: pandas.util.testing is deprecated. Use the functions in the public API at pandas.testing instead.\n",
            "  import pandas.util.testing as tm\n"
          ]
        }
      ]
    },
    {
      "cell_type": "markdown",
      "metadata": {
        "originalKey": "e95912c5-46c8-40ae-bba1-a6668fd41e8b",
        "showInput": false,
        "customInput": null,
        "code_folding": [],
        "hidden_ranges": [],
        "id": "ZROFzPeJP35W"
      },
      "source": [
        "# Lets calculate sample size for 80% power test, two-sided, alpha = 0.05"
      ]
    },
    {
      "cell_type": "code",
      "metadata": {
        "originalKey": "1a0bd9e9-701d-412e-b974-66832f00fd93",
        "showInput": true,
        "customInput": null,
        "code_folding": [],
        "hidden_ranges": [],
        "requestMsgId": "1a0bd9e9-701d-412e-b974-66832f00fd93",
        "executionStartTime": 1638739129412,
        "executionStopTime": 1638739129471,
        "colab": {
          "base_uri": "https://localhost:8080/"
        },
        "id": "6KTFdRYHP35X",
        "outputId": "9aedc122-c0dc-49ea-bbab-ec473ceeb1b0"
      },
      "source": [
        "from statsmodels.stats.power import tt_ind_solve_power\n",
        "\n",
        "mean_diff, sd_diff = 1, 25\n",
        "std_effect_size = mean_diff / sd_diff\n",
        "\n",
        "n = tt_ind_solve_power(effect_size=std_effect_size, alpha=0.05, power=0.8, ratio=1, alternative='two-sided')\n",
        "print('Number in *each* group: {:.5f}'.format(n))"
      ],
      "execution_count": 2,
      "outputs": [
        {
          "output_type": "stream",
          "name": "stdout",
          "text": [
            "Number in *each* group: 9812.03624\n"
          ]
        }
      ]
    },
    {
      "cell_type": "code",
      "metadata": {
        "originalKey": "8aca3a90-304d-4848-803c-7c2c76672ab3",
        "showInput": true,
        "customInput": null,
        "code_folding": [],
        "hidden_ranges": [],
        "requestMsgId": "5c717edf-d11b-46f9-85ab-678df298ad61",
        "executionStartTime": 1638764198460,
        "executionStopTime": 1638765023070,
        "colab": {
          "base_uri": "https://localhost:8080/",
          "height": 363
        },
        "id": "PkVdOvztP35Y",
        "outputId": "57f8d0c8-111e-40aa-8b0b-e88abe2c82a6"
      },
      "source": [
        "columns = ['success_share','real_diff', 'pvalue', 'test_mean', 'control_mean', 'test_higher_control', 'control_higher_test', 'statsig80', 'statsig90', 'statsig95']\n",
        "data = []\n",
        "for success_share in [0.05, 0.1, 0.2, 0.3, 0.4, 0.5]:\n",
        "  for i in range(100000):\n",
        "    coin = np.random.binomial(1, success_share)\n",
        "    test = np.random.normal(loc = 40 + coin, scale = 25, size=9812)\n",
        "    control = np.random.normal(loc = 40 , scale = 25, size = 9812)\n",
        "    result = st.ttest_ind(test, control, equal_var=True)\n",
        "    data.append([success_share, coin, result.pvalue, test.mean(), control.mean(), test.mean()>control.mean(), control.mean()>test.mean(), result.pvalue<0.2, result.pvalue<0.1, result.pvalue<0.05])\n",
        "\n",
        "df0 = pd.DataFrame(data, columns=columns)\n",
        "df0.head(10)"
      ],
      "execution_count": 3,
      "outputs": [
        {
          "output_type": "execute_result",
          "data": {
            "text/html": [
              "<div>\n",
              "<style scoped>\n",
              "    .dataframe tbody tr th:only-of-type {\n",
              "        vertical-align: middle;\n",
              "    }\n",
              "\n",
              "    .dataframe tbody tr th {\n",
              "        vertical-align: top;\n",
              "    }\n",
              "\n",
              "    .dataframe thead th {\n",
              "        text-align: right;\n",
              "    }\n",
              "</style>\n",
              "<table border=\"1\" class=\"dataframe\">\n",
              "  <thead>\n",
              "    <tr style=\"text-align: right;\">\n",
              "      <th></th>\n",
              "      <th>success_share</th>\n",
              "      <th>real_diff</th>\n",
              "      <th>pvalue</th>\n",
              "      <th>test_mean</th>\n",
              "      <th>control_mean</th>\n",
              "      <th>test_higher_control</th>\n",
              "      <th>control_higher_test</th>\n",
              "      <th>statsig80</th>\n",
              "      <th>statsig90</th>\n",
              "      <th>statsig95</th>\n",
              "    </tr>\n",
              "  </thead>\n",
              "  <tbody>\n",
              "    <tr>\n",
              "      <th>0</th>\n",
              "      <td>0.05</td>\n",
              "      <td>0</td>\n",
              "      <td>0.514682</td>\n",
              "      <td>40.369547</td>\n",
              "      <td>40.137929</td>\n",
              "      <td>True</td>\n",
              "      <td>False</td>\n",
              "      <td>False</td>\n",
              "      <td>False</td>\n",
              "      <td>False</td>\n",
              "    </tr>\n",
              "    <tr>\n",
              "      <th>1</th>\n",
              "      <td>0.05</td>\n",
              "      <td>0</td>\n",
              "      <td>0.852731</td>\n",
              "      <td>39.606432</td>\n",
              "      <td>39.672429</td>\n",
              "      <td>False</td>\n",
              "      <td>True</td>\n",
              "      <td>False</td>\n",
              "      <td>False</td>\n",
              "      <td>False</td>\n",
              "    </tr>\n",
              "    <tr>\n",
              "      <th>2</th>\n",
              "      <td>0.05</td>\n",
              "      <td>0</td>\n",
              "      <td>0.042044</td>\n",
              "      <td>39.525605</td>\n",
              "      <td>40.258224</td>\n",
              "      <td>False</td>\n",
              "      <td>True</td>\n",
              "      <td>True</td>\n",
              "      <td>True</td>\n",
              "      <td>True</td>\n",
              "    </tr>\n",
              "    <tr>\n",
              "      <th>3</th>\n",
              "      <td>0.05</td>\n",
              "      <td>0</td>\n",
              "      <td>0.999112</td>\n",
              "      <td>39.803982</td>\n",
              "      <td>39.803584</td>\n",
              "      <td>True</td>\n",
              "      <td>False</td>\n",
              "      <td>False</td>\n",
              "      <td>False</td>\n",
              "      <td>False</td>\n",
              "    </tr>\n",
              "    <tr>\n",
              "      <th>4</th>\n",
              "      <td>0.05</td>\n",
              "      <td>0</td>\n",
              "      <td>0.746221</td>\n",
              "      <td>39.977775</td>\n",
              "      <td>39.863329</td>\n",
              "      <td>True</td>\n",
              "      <td>False</td>\n",
              "      <td>False</td>\n",
              "      <td>False</td>\n",
              "      <td>False</td>\n",
              "    </tr>\n",
              "    <tr>\n",
              "      <th>5</th>\n",
              "      <td>0.05</td>\n",
              "      <td>0</td>\n",
              "      <td>0.529429</td>\n",
              "      <td>40.183133</td>\n",
              "      <td>39.959895</td>\n",
              "      <td>True</td>\n",
              "      <td>False</td>\n",
              "      <td>False</td>\n",
              "      <td>False</td>\n",
              "      <td>False</td>\n",
              "    </tr>\n",
              "    <tr>\n",
              "      <th>6</th>\n",
              "      <td>0.05</td>\n",
              "      <td>0</td>\n",
              "      <td>0.860586</td>\n",
              "      <td>40.100589</td>\n",
              "      <td>40.038007</td>\n",
              "      <td>True</td>\n",
              "      <td>False</td>\n",
              "      <td>False</td>\n",
              "      <td>False</td>\n",
              "      <td>False</td>\n",
              "    </tr>\n",
              "    <tr>\n",
              "      <th>7</th>\n",
              "      <td>0.05</td>\n",
              "      <td>1</td>\n",
              "      <td>0.000581</td>\n",
              "      <td>41.508871</td>\n",
              "      <td>40.283637</td>\n",
              "      <td>True</td>\n",
              "      <td>False</td>\n",
              "      <td>True</td>\n",
              "      <td>True</td>\n",
              "      <td>True</td>\n",
              "    </tr>\n",
              "    <tr>\n",
              "      <th>8</th>\n",
              "      <td>0.05</td>\n",
              "      <td>0</td>\n",
              "      <td>0.378669</td>\n",
              "      <td>40.039213</td>\n",
              "      <td>40.351985</td>\n",
              "      <td>False</td>\n",
              "      <td>True</td>\n",
              "      <td>False</td>\n",
              "      <td>False</td>\n",
              "      <td>False</td>\n",
              "    </tr>\n",
              "    <tr>\n",
              "      <th>9</th>\n",
              "      <td>0.05</td>\n",
              "      <td>0</td>\n",
              "      <td>0.680229</td>\n",
              "      <td>40.281969</td>\n",
              "      <td>40.134986</td>\n",
              "      <td>True</td>\n",
              "      <td>False</td>\n",
              "      <td>False</td>\n",
              "      <td>False</td>\n",
              "      <td>False</td>\n",
              "    </tr>\n",
              "  </tbody>\n",
              "</table>\n",
              "</div>"
            ],
            "text/plain": [
              "   success_share  real_diff    pvalue  ...  statsig80  statsig90  statsig95\n",
              "0           0.05          0  0.514682  ...      False      False      False\n",
              "1           0.05          0  0.852731  ...      False      False      False\n",
              "2           0.05          0  0.042044  ...       True       True       True\n",
              "3           0.05          0  0.999112  ...      False      False      False\n",
              "4           0.05          0  0.746221  ...      False      False      False\n",
              "5           0.05          0  0.529429  ...      False      False      False\n",
              "6           0.05          0  0.860586  ...      False      False      False\n",
              "7           0.05          1  0.000581  ...       True       True       True\n",
              "8           0.05          0  0.378669  ...      False      False      False\n",
              "9           0.05          0  0.680229  ...      False      False      False\n",
              "\n",
              "[10 rows x 10 columns]"
            ]
          },
          "metadata": {},
          "execution_count": 3
        }
      ]
    },
    {
      "cell_type": "markdown",
      "metadata": {
        "originalKey": "ad005438-6b55-498b-be7d-68c3fa7020bd",
        "showInput": false,
        "customInput": null,
        "code_folding": [],
        "hidden_ranges": [],
        "collapsed": false,
        "requestMsgId": "ad005438-6b55-498b-be7d-68c3fa7020bd",
        "executionStartTime": 1638739936726,
        "executionStopTime": 1638739936743,
        "id": "SVoldYQFP35Z"
      },
      "source": [
        "# False Discovery Rate"
      ]
    },
    {
      "cell_type": "code",
      "metadata": {
        "originalKey": "92ba9be5-b45b-4b93-b3b5-96404c6e92cb",
        "showInput": true,
        "customInput": null,
        "requestMsgId": "1e288a3e-5a39-452a-96f7-6c4a07adfe24",
        "executionStartTime": 1638765023106,
        "executionStopTime": 1638765023319,
        "code_folding": [],
        "hidden_ranges": [],
        "id": "cVzlcwUnP35Z"
      },
      "source": [
        "columns = ['ci','success_share', 'frr']\n",
        "data2 = []\n",
        "for  success_share in [0.05, 0.1, 0.2, 0.3, 0.4, 0.5]:\n",
        "  df1 = df0[df0.success_share==success_share]\n",
        "  data2.append([\"95\", success_share,  df1[(df1.real_diff==1) & (df1.statsig95) & (df1.test_higher_control)].statsig95.count() / df1[(df1.statsig95) & (df1.test_higher_control)].statsig95.count()])\n",
        "  data2.append([\"90\", success_share,  df1[(df1.real_diff==1) & (df1.statsig90) & (df1.test_higher_control)].statsig90.count() / df1[(df1.statsig90) & (df1.test_higher_control)].statsig90.count()])\n",
        "  data2.append([\"80\", success_share,  df1[(df1.real_diff==1) & (df1.statsig80) & (df1.test_higher_control)].statsig80.count() / df1[(df1.statsig80) & (df1.test_higher_control)].statsig80.count()])"
      ],
      "execution_count": 4,
      "outputs": []
    },
    {
      "cell_type": "code",
      "metadata": {
        "originalKey": "7603a6af-7251-4bb2-b9c0-f7bb7f3456d6",
        "showInput": true,
        "customInput": null,
        "requestMsgId": "c60e5e1a-015b-4e27-813a-1a2de64150a7",
        "executionStartTime": 1638765023335,
        "executionStopTime": 1638765023445,
        "colab": {
          "base_uri": "https://localhost:8080/",
          "height": 614
        },
        "id": "wKWZIYk7P35Z",
        "outputId": "f537f14a-ae19-41c1-cfef-4c6bd7c23cb2"
      },
      "source": [
        "data2\n",
        "df1 = pd.DataFrame(data2, columns=columns)\n",
        "df1"
      ],
      "execution_count": 5,
      "outputs": [
        {
          "output_type": "execute_result",
          "data": {
            "text/html": [
              "<div>\n",
              "<style scoped>\n",
              "    .dataframe tbody tr th:only-of-type {\n",
              "        vertical-align: middle;\n",
              "    }\n",
              "\n",
              "    .dataframe tbody tr th {\n",
              "        vertical-align: top;\n",
              "    }\n",
              "\n",
              "    .dataframe thead th {\n",
              "        text-align: right;\n",
              "    }\n",
              "</style>\n",
              "<table border=\"1\" class=\"dataframe\">\n",
              "  <thead>\n",
              "    <tr style=\"text-align: right;\">\n",
              "      <th></th>\n",
              "      <th>ci</th>\n",
              "      <th>success_share</th>\n",
              "      <th>frr</th>\n",
              "    </tr>\n",
              "  </thead>\n",
              "  <tbody>\n",
              "    <tr>\n",
              "      <th>0</th>\n",
              "      <td>95</td>\n",
              "      <td>0.05</td>\n",
              "      <td>0.621492</td>\n",
              "    </tr>\n",
              "    <tr>\n",
              "      <th>1</th>\n",
              "      <td>90</td>\n",
              "      <td>0.05</td>\n",
              "      <td>0.477359</td>\n",
              "    </tr>\n",
              "    <tr>\n",
              "      <th>2</th>\n",
              "      <td>80</td>\n",
              "      <td>0.05</td>\n",
              "      <td>0.326758</td>\n",
              "    </tr>\n",
              "    <tr>\n",
              "      <th>3</th>\n",
              "      <td>95</td>\n",
              "      <td>0.10</td>\n",
              "      <td>0.784181</td>\n",
              "    </tr>\n",
              "    <tr>\n",
              "      <th>4</th>\n",
              "      <td>90</td>\n",
              "      <td>0.10</td>\n",
              "      <td>0.659132</td>\n",
              "    </tr>\n",
              "    <tr>\n",
              "      <th>5</th>\n",
              "      <td>80</td>\n",
              "      <td>0.10</td>\n",
              "      <td>0.502766</td>\n",
              "    </tr>\n",
              "    <tr>\n",
              "      <th>6</th>\n",
              "      <td>95</td>\n",
              "      <td>0.20</td>\n",
              "      <td>0.891692</td>\n",
              "    </tr>\n",
              "    <tr>\n",
              "      <th>7</th>\n",
              "      <td>90</td>\n",
              "      <td>0.20</td>\n",
              "      <td>0.813931</td>\n",
              "    </tr>\n",
              "    <tr>\n",
              "      <th>8</th>\n",
              "      <td>80</td>\n",
              "      <td>0.20</td>\n",
              "      <td>0.699528</td>\n",
              "    </tr>\n",
              "    <tr>\n",
              "      <th>9</th>\n",
              "      <td>95</td>\n",
              "      <td>0.30</td>\n",
              "      <td>0.934179</td>\n",
              "    </tr>\n",
              "    <tr>\n",
              "      <th>10</th>\n",
              "      <td>90</td>\n",
              "      <td>0.30</td>\n",
              "      <td>0.883713</td>\n",
              "    </tr>\n",
              "    <tr>\n",
              "      <th>11</th>\n",
              "      <td>80</td>\n",
              "      <td>0.30</td>\n",
              "      <td>0.802643</td>\n",
              "    </tr>\n",
              "    <tr>\n",
              "      <th>12</th>\n",
              "      <td>95</td>\n",
              "      <td>0.40</td>\n",
              "      <td>0.955571</td>\n",
              "    </tr>\n",
              "    <tr>\n",
              "      <th>13</th>\n",
              "      <td>90</td>\n",
              "      <td>0.40</td>\n",
              "      <td>0.921448</td>\n",
              "    </tr>\n",
              "    <tr>\n",
              "      <th>14</th>\n",
              "      <td>80</td>\n",
              "      <td>0.40</td>\n",
              "      <td>0.863760</td>\n",
              "    </tr>\n",
              "    <tr>\n",
              "      <th>15</th>\n",
              "      <td>95</td>\n",
              "      <td>0.50</td>\n",
              "      <td>0.970293</td>\n",
              "    </tr>\n",
              "    <tr>\n",
              "      <th>16</th>\n",
              "      <td>90</td>\n",
              "      <td>0.50</td>\n",
              "      <td>0.945943</td>\n",
              "    </tr>\n",
              "    <tr>\n",
              "      <th>17</th>\n",
              "      <td>80</td>\n",
              "      <td>0.50</td>\n",
              "      <td>0.904819</td>\n",
              "    </tr>\n",
              "  </tbody>\n",
              "</table>\n",
              "</div>"
            ],
            "text/plain": [
              "    ci  success_share       frr\n",
              "0   95           0.05  0.621492\n",
              "1   90           0.05  0.477359\n",
              "2   80           0.05  0.326758\n",
              "3   95           0.10  0.784181\n",
              "4   90           0.10  0.659132\n",
              "5   80           0.10  0.502766\n",
              "6   95           0.20  0.891692\n",
              "7   90           0.20  0.813931\n",
              "8   80           0.20  0.699528\n",
              "9   95           0.30  0.934179\n",
              "10  90           0.30  0.883713\n",
              "11  80           0.30  0.802643\n",
              "12  95           0.40  0.955571\n",
              "13  90           0.40  0.921448\n",
              "14  80           0.40  0.863760\n",
              "15  95           0.50  0.970293\n",
              "16  90           0.50  0.945943\n",
              "17  80           0.50  0.904819"
            ]
          },
          "metadata": {},
          "execution_count": 5
        }
      ]
    },
    {
      "cell_type": "code",
      "metadata": {
        "originalKey": "d05c1196-5c88-451b-8d28-abc6ae6d0996",
        "showInput": true,
        "customInput": null,
        "code_folding": [],
        "hidden_ranges": [],
        "requestMsgId": "bbdfc5c9-72cf-42e2-8694-595eaa3fc4ad",
        "executionStartTime": 1638765023487,
        "executionStopTime": 1638765023960,
        "colab": {
          "base_uri": "https://localhost:8080/",
          "height": 428
        },
        "id": "AkhuZFq6P35a",
        "outputId": "1de20659-8778-42e1-dd08-da5e20894eb0"
      },
      "source": [
        "fig, ax = plt.subplots()\n",
        "for label, grp in df1.groupby('ci'):\n",
        "    grp.plot(x = 'success_share', y = 'frr',ax = ax, label = label)\n",
        "    fig.set_size_inches(18, 6)\n",
        "#     ax.get_legend()\n",
        "plt.suptitle('1 - FDR  or share of true successful metrics among our identified successes', fontsize=35 );"
      ],
      "execution_count": 6,
      "outputs": [
        {
          "output_type": "display_data",
          "data": {
            "image/png": "[encoded data removed]",
            "text/plain": [
              "<Figure size 1296x432 with 1 Axes>"
            ]
          },
          "metadata": {
            "needs_background": "light"
          }
        }
      ]
    },
    {
      "cell_type": "markdown",
      "metadata": {
        "originalKey": "022ebccd-3a5d-42ed-a50f-7272f9ffb8f6",
        "showInput": false,
        "customInput": null,
        "code_folding": [],
        "hidden_ranges": [],
        "id": "SlQLg4vUP35a"
      },
      "source": [
        "# Type 1 error: False positive"
      ]
    },
    {
      "cell_type": "code",
      "metadata": {
        "originalKey": "f0ca212a-3767-4dd4-a6af-54132e54fdb7",
        "showInput": true,
        "customInput": null,
        "code_folding": [],
        "hidden_ranges": [],
        "requestMsgId": "f0ca212a-3767-4dd4-a6af-54132e54fdb7",
        "executionStartTime": 1638740809325,
        "executionStopTime": 1638740809831,
        "colab": {
          "base_uri": "https://localhost:8080/",
          "height": 279
        },
        "id": "gjSeZ-aXP35b",
        "outputId": "b89ba6ee-abfc-437a-c700-1a297c50b50c"
      },
      "source": [
        "(df0[(df0.success_share==0.3) & (df0.real_diff==0)].test_mean - df0[(df0.success_share==0.3) & (df0.real_diff==0)].control_mean).hist(bins=100)"
      ],
      "execution_count": 7,
      "outputs": [
        {
          "output_type": "execute_result",
          "data": {
            "text/plain": [
              "<matplotlib.axes._subplots.AxesSubplot at 0x7f1278d68d10>"
            ]
          },
          "metadata": {},
          "execution_count": 7
        },
        {
          "output_type": "display_data",
          "data": {
            "image/png": "[encoded data removed]",
            "text/plain": [
              "<Figure size 432x288 with 1 Axes>"
            ]
          },
          "metadata": {
            "needs_background": "light"
          }
        }
      ]
    },
    {
      "cell_type": "code",
      "metadata": {
        "originalKey": "4b9b13cc-05fc-465a-b2ca-772438b84209",
        "showInput": true,
        "customInput": null,
        "code_folding": [],
        "hidden_ranges": [],
        "requestMsgId": "4b9b13cc-05fc-465a-b2ca-772438b84209",
        "executionStartTime": 1638741167149,
        "executionStopTime": 1638741167512,
        "colab": {
          "base_uri": "https://localhost:8080/",
          "height": 283
        },
        "id": "oW6qQxofP35b",
        "outputId": "b400d371-b678-4b11-b7e8-6d11f543a2c6"
      },
      "source": [
        "(df0[(df0.success_share==0.3) & (df0.real_diff==0) & (df0.statsig95==1)].test_mean - df0[(df0.success_share==0.3) & (df0.real_diff==0)& (df0.statsig95==1)].control_mean).plot.hist(bins=100, ylim=(0,2500))"
      ],
      "execution_count": 8,
      "outputs": [
        {
          "output_type": "execute_result",
          "data": {
            "text/plain": [
              "<matplotlib.axes._subplots.AxesSubplot at 0x7f1278d55f90>"
            ]
          },
          "metadata": {},
          "execution_count": 8
        },
        {
          "output_type": "display_data",
          "data": {
            "image/png": "[encoded data removed]",
            "text/plain": [
              "<Figure size 432x288 with 1 Axes>"
            ]
          },
          "metadata": {
            "needs_background": "light"
          }
        }
      ]
    },
    {
      "cell_type": "code",
      "metadata": {
        "originalKey": "9ad33041-9fb5-42ce-b624-98c6f2f2c4ed",
        "showInput": true,
        "customInput": null,
        "code_folding": [],
        "hidden_ranges": [],
        "requestMsgId": "9ad33041-9fb5-42ce-b624-98c6f2f2c4ed",
        "executionStartTime": 1638741193919,
        "executionStopTime": 1638741194418,
        "colab": {
          "base_uri": "https://localhost:8080/",
          "height": 283
        },
        "id": "vMYJeS8kP35b",
        "outputId": "27b1a883-92bb-432b-cabd-514209b9505c"
      },
      "source": [
        "(df0[(df0.success_share==0.3) & (df0.real_diff==0) & (df0.statsig80==1)].test_mean - df0[(df0.success_share==0.3) & (df0.real_diff==0)& (df0.statsig80==1)].control_mean).plot.hist(bins=100, ylim=(0,2500))"
      ],
      "execution_count": 9,
      "outputs": [
        {
          "output_type": "execute_result",
          "data": {
            "text/plain": [
              "<matplotlib.axes._subplots.AxesSubplot at 0x7f127873ed90>"
            ]
          },
          "metadata": {},
          "execution_count": 9
        },
        {
          "output_type": "display_data",
          "data": {
            "image/png": "[encoded data removed]",
            "text/plain": [
              "<Figure size 432x288 with 1 Axes>"
            ]
          },
          "metadata": {
            "needs_background": "light"
          }
        }
      ]
    },
    {
      "cell_type": "code",
      "metadata": {
        "originalKey": "745fc035-78bc-4dee-805e-009eb2e4dc32",
        "showInput": true,
        "customInput": null,
        "code_folding": [],
        "hidden_ranges": [],
        "requestMsgId": "745fc035-78bc-4dee-805e-009eb2e4dc32",
        "executionStartTime": 1638740477643,
        "executionStopTime": 1638740477776,
        "id": "lV4SZwXTP35c"
      },
      "source": [
        "columns = ['ci','success_share', 'frr']\n",
        "data2 = []\n",
        "for  success_share in [0.1, 0.2, 0.3, 0.4, 0.5]:\n",
        "  df1 = df0[df0.success_share==success_share]\n",
        "  data2.append([\"95\", success_share,  df1[(df1.real_diff==0) & (df1.statsig95) & (df1.test_higher_control)].statsig95.count() / df1[df1.real_diff==0].statsig95.count()])\n",
        "  data2.append([\"90\", success_share,  df1[(df1.real_diff==0) & (df1.statsig90) & (df1.test_higher_control)].statsig90.count() / df1[df1.real_diff==0].statsig90.count()])\n",
        "  data2.append([\"80\", success_share,  df1[(df1.real_diff==0) & (df1.statsig80) & (df1.test_higher_control)].statsig80.count() / df1[df1.real_diff==0].statsig80.count()])"
      ],
      "execution_count": 10,
      "outputs": []
    },
    {
      "cell_type": "code",
      "metadata": {
        "originalKey": "c45ab86c-d652-40e9-8866-d75206d16188",
        "showInput": true,
        "customInput": null,
        "requestMsgId": "c45ab86c-d652-40e9-8866-d75206d16188",
        "executionStartTime": 1638740479152,
        "executionStopTime": 1638740479258,
        "colab": {
          "base_uri": "https://localhost:8080/",
          "height": 520
        },
        "id": "lzZaJXAsP35c",
        "outputId": "852bc428-aba0-4f9e-f27d-8cebbd767470"
      },
      "source": [
        "data2\n",
        "df1 = pd.DataFrame(data2, columns=columns)\n",
        "df1"
      ],
      "execution_count": 11,
      "outputs": [
        {
          "output_type": "execute_result",
          "data": {
            "text/html": [
              "<div>\n",
              "<style scoped>\n",
              "    .dataframe tbody tr th:only-of-type {\n",
              "        vertical-align: middle;\n",
              "    }\n",
              "\n",
              "    .dataframe tbody tr th {\n",
              "        vertical-align: top;\n",
              "    }\n",
              "\n",
              "    .dataframe thead th {\n",
              "        text-align: right;\n",
              "    }\n",
              "</style>\n",
              "<table border=\"1\" class=\"dataframe\">\n",
              "  <thead>\n",
              "    <tr style=\"text-align: right;\">\n",
              "      <th></th>\n",
              "      <th>ci</th>\n",
              "      <th>success_share</th>\n",
              "      <th>frr</th>\n",
              "    </tr>\n",
              "  </thead>\n",
              "  <tbody>\n",
              "    <tr>\n",
              "      <th>0</th>\n",
              "      <td>95</td>\n",
              "      <td>0.1</td>\n",
              "      <td>0.024439</td>\n",
              "    </tr>\n",
              "    <tr>\n",
              "      <th>1</th>\n",
              "      <td>90</td>\n",
              "      <td>0.1</td>\n",
              "      <td>0.050043</td>\n",
              "    </tr>\n",
              "    <tr>\n",
              "      <th>2</th>\n",
              "      <td>80</td>\n",
              "      <td>0.1</td>\n",
              "      <td>0.101739</td>\n",
              "    </tr>\n",
              "    <tr>\n",
              "      <th>3</th>\n",
              "      <td>95</td>\n",
              "      <td>0.2</td>\n",
              "      <td>0.024163</td>\n",
              "    </tr>\n",
              "    <tr>\n",
              "      <th>4</th>\n",
              "      <td>90</td>\n",
              "      <td>0.2</td>\n",
              "      <td>0.049810</td>\n",
              "    </tr>\n",
              "    <tr>\n",
              "      <th>5</th>\n",
              "      <td>80</td>\n",
              "      <td>0.2</td>\n",
              "      <td>0.100045</td>\n",
              "    </tr>\n",
              "    <tr>\n",
              "      <th>6</th>\n",
              "      <td>95</td>\n",
              "      <td>0.3</td>\n",
              "      <td>0.024151</td>\n",
              "    </tr>\n",
              "    <tr>\n",
              "      <th>7</th>\n",
              "      <td>90</td>\n",
              "      <td>0.3</td>\n",
              "      <td>0.049417</td>\n",
              "    </tr>\n",
              "    <tr>\n",
              "      <th>8</th>\n",
              "      <td>80</td>\n",
              "      <td>0.3</td>\n",
              "      <td>0.098533</td>\n",
              "    </tr>\n",
              "    <tr>\n",
              "      <th>9</th>\n",
              "      <td>95</td>\n",
              "      <td>0.4</td>\n",
              "      <td>0.025168</td>\n",
              "    </tr>\n",
              "    <tr>\n",
              "      <th>10</th>\n",
              "      <td>90</td>\n",
              "      <td>0.4</td>\n",
              "      <td>0.050538</td>\n",
              "    </tr>\n",
              "    <tr>\n",
              "      <th>11</th>\n",
              "      <td>80</td>\n",
              "      <td>0.4</td>\n",
              "      <td>0.099935</td>\n",
              "    </tr>\n",
              "    <tr>\n",
              "      <th>12</th>\n",
              "      <td>95</td>\n",
              "      <td>0.5</td>\n",
              "      <td>0.024438</td>\n",
              "    </tr>\n",
              "    <tr>\n",
              "      <th>13</th>\n",
              "      <td>90</td>\n",
              "      <td>0.5</td>\n",
              "      <td>0.049894</td>\n",
              "    </tr>\n",
              "    <tr>\n",
              "      <th>14</th>\n",
              "      <td>80</td>\n",
              "      <td>0.5</td>\n",
              "      <td>0.098031</td>\n",
              "    </tr>\n",
              "  </tbody>\n",
              "</table>\n",
              "</div>"
            ],
            "text/plain": [
              "    ci  success_share       frr\n",
              "0   95            0.1  0.024439\n",
              "1   90            0.1  0.050043\n",
              "2   80            0.1  0.101739\n",
              "3   95            0.2  0.024163\n",
              "4   90            0.2  0.049810\n",
              "5   80            0.2  0.100045\n",
              "6   95            0.3  0.024151\n",
              "7   90            0.3  0.049417\n",
              "8   80            0.3  0.098533\n",
              "9   95            0.4  0.025168\n",
              "10  90            0.4  0.050538\n",
              "11  80            0.4  0.099935\n",
              "12  95            0.5  0.024438\n",
              "13  90            0.5  0.049894\n",
              "14  80            0.5  0.098031"
            ]
          },
          "metadata": {},
          "execution_count": 11
        }
      ]
    },
    {
      "cell_type": "code",
      "metadata": {
        "originalKey": "01dd1834-d5a3-4bb3-8582-c0144bb4b0bc",
        "showInput": true,
        "customInput": null,
        "requestMsgId": "01dd1834-d5a3-4bb3-8582-c0144bb4b0bc",
        "executionStartTime": 1638740650238,
        "executionStopTime": 1638740650738,
        "code_folding": [],
        "hidden_ranges": [],
        "colab": {
          "base_uri": "https://localhost:8080/",
          "height": 428
        },
        "id": "8wsn52m3P35d",
        "outputId": "8c9c05c2-3a19-4c13-c63c-8eee59f1a281"
      },
      "source": [
        "fig, ax = plt.subplots()\n",
        "for label, grp in df1.groupby('ci'):\n",
        "    grp.plot(x = 'success_share', y = 'frr',ax = ax, label = label)\n",
        "    fig.set_size_inches(18, 6)\n",
        "#     ax.get_legend()\n",
        "plt.suptitle('Type 1 error (test>control)', fontsize=35 );"
      ],
      "execution_count": 12,
      "outputs": [
        {
          "output_type": "display_data",
          "data": {
            "image/png": "[encoded data removed]",
            "text/plain": [
              "<Figure size 1296x432 with 1 Axes>"
            ]
          },
          "metadata": {
            "needs_background": "light"
          }
        }
      ]
    },
    {
      "cell_type": "markdown",
      "metadata": {
        "originalKey": "929f3d14-047a-41c2-a3ec-07b7aa070f1e",
        "showInput": false,
        "customInput": null,
        "code_folding": [],
        "hidden_ranges": [],
        "id": "mcjXqPKdP35d"
      },
      "source": [
        "# Type 2 error: False negative"
      ]
    },
    {
      "cell_type": "code",
      "metadata": {
        "originalKey": "3fe64407-e0be-4606-a500-abfd2ea166b0",
        "showInput": true,
        "customInput": null,
        "code_folding": [],
        "hidden_ranges": [],
        "requestMsgId": "3fe64407-e0be-4606-a500-abfd2ea166b0",
        "executionStartTime": 1638741305410,
        "executionStopTime": 1638741305963,
        "colab": {
          "base_uri": "https://localhost:8080/",
          "height": 279
        },
        "id": "ShbJ9hZsP35d",
        "outputId": "06fcdfb1-eecc-488c-c153-1b088b5e4a60"
      },
      "source": [
        "(df0[(df0.success_share==0.3) & (df0.real_diff==1)].test_mean - df0[(df0.success_share==0.3) & (df0.real_diff==1)].control_mean).hist(bins=100)"
      ],
      "execution_count": 13,
      "outputs": [
        {
          "output_type": "execute_result",
          "data": {
            "text/plain": [
              "<matplotlib.axes._subplots.AxesSubplot at 0x7f12785b1390>"
            ]
          },
          "metadata": {},
          "execution_count": 13
        },
        {
          "output_type": "display_data",
          "data": {
            "image/png": "[encoded data removed]",
            "text/plain": [
              "<Figure size 432x288 with 1 Axes>"
            ]
          },
          "metadata": {
            "needs_background": "light"
          }
        }
      ]
    },
    {
      "cell_type": "code",
      "metadata": {
        "originalKey": "a4b6399e-402c-43ec-a9dd-4a1858a44c05",
        "showInput": true,
        "customInput": null,
        "code_folding": [],
        "hidden_ranges": [],
        "requestMsgId": "a4b6399e-402c-43ec-a9dd-4a1858a44c05",
        "executionStartTime": 1638741412595,
        "executionStopTime": 1638741413066,
        "colab": {
          "base_uri": "https://localhost:8080/",
          "height": 283
        },
        "id": "M69X9N_0P35e",
        "outputId": "732421de-fcdf-424f-d64c-99469a7e01f9"
      },
      "source": [
        "(df0[(df0.success_share==0.3) & (df0.real_diff==1) & (df0.statsig95==0)].test_mean - df0[(df0.success_share==0.3) & (df0.real_diff==1)& (df0.statsig95==0)].control_mean).plot.hist(bins=100, ylim=(0,1000))"
      ],
      "execution_count": 14,
      "outputs": [
        {
          "output_type": "execute_result",
          "data": {
            "text/plain": [
              "<matplotlib.axes._subplots.AxesSubplot at 0x7f12781f4e90>"
            ]
          },
          "metadata": {},
          "execution_count": 14
        },
        {
          "output_type": "display_data",
          "data": {
            "image/png": "[encoded data removed]",
            "text/plain": [
              "<Figure size 432x288 with 1 Axes>"
            ]
          },
          "metadata": {
            "needs_background": "light"
          }
        }
      ]
    },
    {
      "cell_type": "code",
      "metadata": {
        "originalKey": "9296c27e-6488-4790-8357-8d40bc985998",
        "showInput": true,
        "customInput": null,
        "code_folding": [],
        "hidden_ranges": [],
        "id": "5dNer98uP35e"
      },
      "source": [
        ""
      ],
      "execution_count": 14,
      "outputs": []
    },
    {
      "cell_type": "code",
      "metadata": {
        "originalKey": "0cfc9123-4bab-46a5-a0bf-caaffa2b0f49",
        "showInput": true,
        "customInput": null,
        "code_folding": [],
        "hidden_ranges": [],
        "requestMsgId": "0cfc9123-4bab-46a5-a0bf-caaffa2b0f49",
        "executionStartTime": 1638741763590,
        "executionStopTime": 1638741763786,
        "id": "sV8zp3yzP35e"
      },
      "source": [
        "columns = ['ci','success_share', 'frr']\n",
        "data2 = []\n",
        "for  success_share in [0.1, 0.2, 0.3, 0.4, 0.5]:\n",
        "  df1 = df0[df0.success_share==success_share]\n",
        "  data2.append([\"95\", success_share,  df1[(df1.real_diff==1) & (df1.statsig95==1) & (df1.test_higher_control)].statsig95.count() / df1[df1.real_diff==1].statsig95.count()])\n",
        "  data2.append([\"90\", success_share,  df1[(df1.real_diff==1) & (df1.statsig90==1) & (df1.test_higher_control)].statsig90.count() / df1[df1.real_diff==1].statsig90.count()])\n",
        "  data2.append([\"80\", success_share,  df1[(df1.real_diff==1) & (df1.statsig80==1) & (df1.test_higher_control)].statsig80.count() / df1[df1.real_diff==1].statsig80.count()])"
      ],
      "execution_count": 15,
      "outputs": []
    },
    {
      "cell_type": "code",
      "metadata": {
        "originalKey": "3a33c288-37c2-4b73-8ae7-9a11f2710563",
        "showInput": true,
        "customInput": null,
        "requestMsgId": "3a33c288-37c2-4b73-8ae7-9a11f2710563",
        "executionStartTime": 1638741765365,
        "executionStopTime": 1638741765467,
        "colab": {
          "base_uri": "https://localhost:8080/",
          "height": 520
        },
        "id": "y5jEkH2QP35f",
        "outputId": "536ba390-6c24-4c31-c7e4-ef8acf35bf91"
      },
      "source": [
        "data2\n",
        "df1 = pd.DataFrame(data2, columns=columns)\n",
        "df1"
      ],
      "execution_count": 16,
      "outputs": [
        {
          "output_type": "execute_result",
          "data": {
            "text/html": [
              "<div>\n",
              "<style scoped>\n",
              "    .dataframe tbody tr th:only-of-type {\n",
              "        vertical-align: middle;\n",
              "    }\n",
              "\n",
              "    .dataframe tbody tr th {\n",
              "        vertical-align: top;\n",
              "    }\n",
              "\n",
              "    .dataframe thead th {\n",
              "        text-align: right;\n",
              "    }\n",
              "</style>\n",
              "<table border=\"1\" class=\"dataframe\">\n",
              "  <thead>\n",
              "    <tr style=\"text-align: right;\">\n",
              "      <th></th>\n",
              "      <th>ci</th>\n",
              "      <th>success_share</th>\n",
              "      <th>frr</th>\n",
              "    </tr>\n",
              "  </thead>\n",
              "  <tbody>\n",
              "    <tr>\n",
              "      <th>0</th>\n",
              "      <td>95</td>\n",
              "      <td>0.1</td>\n",
              "      <td>0.808427</td>\n",
              "    </tr>\n",
              "    <tr>\n",
              "      <th>1</th>\n",
              "      <td>90</td>\n",
              "      <td>0.1</td>\n",
              "      <td>0.880974</td>\n",
              "    </tr>\n",
              "    <tr>\n",
              "      <th>2</th>\n",
              "      <td>80</td>\n",
              "      <td>0.1</td>\n",
              "      <td>0.936546</td>\n",
              "    </tr>\n",
              "    <tr>\n",
              "      <th>3</th>\n",
              "      <td>95</td>\n",
              "      <td>0.2</td>\n",
              "      <td>0.801922</td>\n",
              "    </tr>\n",
              "    <tr>\n",
              "      <th>4</th>\n",
              "      <td>90</td>\n",
              "      <td>0.2</td>\n",
              "      <td>0.878346</td>\n",
              "    </tr>\n",
              "    <tr>\n",
              "      <th>5</th>\n",
              "      <td>80</td>\n",
              "      <td>0.2</td>\n",
              "      <td>0.938921</td>\n",
              "    </tr>\n",
              "    <tr>\n",
              "      <th>6</th>\n",
              "      <td>95</td>\n",
              "      <td>0.3</td>\n",
              "      <td>0.800454</td>\n",
              "    </tr>\n",
              "    <tr>\n",
              "      <th>7</th>\n",
              "      <td>90</td>\n",
              "      <td>0.3</td>\n",
              "      <td>0.876964</td>\n",
              "    </tr>\n",
              "    <tr>\n",
              "      <th>8</th>\n",
              "      <td>80</td>\n",
              "      <td>0.3</td>\n",
              "      <td>0.935797</td>\n",
              "    </tr>\n",
              "    <tr>\n",
              "      <th>9</th>\n",
              "      <td>95</td>\n",
              "      <td>0.4</td>\n",
              "      <td>0.798545</td>\n",
              "    </tr>\n",
              "    <tr>\n",
              "      <th>10</th>\n",
              "      <td>90</td>\n",
              "      <td>0.4</td>\n",
              "      <td>0.874533</td>\n",
              "    </tr>\n",
              "    <tr>\n",
              "      <th>11</th>\n",
              "      <td>80</td>\n",
              "      <td>0.4</td>\n",
              "      <td>0.934655</td>\n",
              "    </tr>\n",
              "    <tr>\n",
              "      <th>12</th>\n",
              "      <td>95</td>\n",
              "      <td>0.5</td>\n",
              "      <td>0.800938</td>\n",
              "    </tr>\n",
              "    <tr>\n",
              "      <th>13</th>\n",
              "      <td>90</td>\n",
              "      <td>0.5</td>\n",
              "      <td>0.876107</td>\n",
              "    </tr>\n",
              "    <tr>\n",
              "      <th>14</th>\n",
              "      <td>80</td>\n",
              "      <td>0.5</td>\n",
              "      <td>0.935128</td>\n",
              "    </tr>\n",
              "  </tbody>\n",
              "</table>\n",
              "</div>"
            ],
            "text/plain": [
              "    ci  success_share       frr\n",
              "0   95            0.1  0.808427\n",
              "1   90            0.1  0.880974\n",
              "2   80            0.1  0.936546\n",
              "3   95            0.2  0.801922\n",
              "4   90            0.2  0.878346\n",
              "5   80            0.2  0.938921\n",
              "6   95            0.3  0.800454\n",
              "7   90            0.3  0.876964\n",
              "8   80            0.3  0.935797\n",
              "9   95            0.4  0.798545\n",
              "10  90            0.4  0.874533\n",
              "11  80            0.4  0.934655\n",
              "12  95            0.5  0.800938\n",
              "13  90            0.5  0.876107\n",
              "14  80            0.5  0.935128"
            ]
          },
          "metadata": {},
          "execution_count": 16
        }
      ]
    },
    {
      "cell_type": "code",
      "metadata": {
        "originalKey": "ae637e6e-aa5c-4a58-8736-79a01f4e72cc",
        "showInput": true,
        "customInput": null,
        "requestMsgId": "ae637e6e-aa5c-4a58-8736-79a01f4e72cc",
        "executionStartTime": 1638741766215,
        "executionStopTime": 1638741766701,
        "code_folding": [],
        "hidden_ranges": [],
        "colab": {
          "base_uri": "https://localhost:8080/",
          "height": 428
        },
        "id": "YvRALYdDP35f",
        "outputId": "e78596bc-572d-4766-9333-7782f896a210"
      },
      "source": [
        "fig, ax = plt.subplots()\n",
        "for label, grp in df1.groupby('ci'):\n",
        "    grp.plot(x = 'success_share', y = 'frr',ax = ax, label = label)\n",
        "    fig.set_size_inches(18, 6)\n",
        "#     ax.get_legend()\n",
        "plt.suptitle('Type 2 error', fontsize=35 );"
      ],
      "execution_count": 17,
      "outputs": [
        {
          "output_type": "display_data",
          "data": {
            "image/png": "[encoded data removed]",
            "text/plain": [
              "<Figure size 1296x432 with 1 Axes>"
            ]
          },
          "metadata": {
            "needs_background": "light"
          }
        }
      ]
    },
    {
      "cell_type": "code",
      "metadata": {
        "originalKey": "f7f9692a-10bd-47a1-a754-dafc454848c7",
        "showInput": true,
        "customInput": null,
        "id": "UPXmbww-P35f"
      },
      "source": [
        ""
      ],
      "execution_count": 17,
      "outputs": []
    }
  ]
}